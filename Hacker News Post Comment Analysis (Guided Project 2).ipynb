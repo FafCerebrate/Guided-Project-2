{
 "cells": [
  {
   "cell_type": "markdown",
   "metadata": {},
   "source": [
    "# Hacker News Post Comment Analysist\n",
    "\n",
    "We are looking at the Hacker News website.  It is a website that is similar to a forum board which is popular in technology and startup circles.  Each post has a number of comments and a number of points with points being the number of upvotes minus the number of downvotes.\n",
    "\n",
    "Our goal is to look at posts that specifically are `Ask HN` and `Show HN`.  `Ask HN` are posts where the user are asking everyone on the forum a question.  `Show HN` are posts that the user is showing the forum something they have done.  We will be comparing how many comments each of these types of posts get.  We will also be looking to see if posts made at a certain time get more comments."
   ]
  },
  {
   "cell_type": "code",
   "execution_count": 1,
   "metadata": {},
   "outputs": [
    {
     "name": "stdout",
     "output_type": "stream",
     "text": [
      "['id', 'title', 'url', 'num_points', 'num_comments', 'author', 'created_at']\n",
      "\n",
      "\n",
      "['12579008', 'You have two days to comment if you want stem cells to be classified as your own', 'http://www.regulations.gov/document?D=FDA-2015-D-3719-0018', '1', '0', 'altstar', '9/26/2016 3:26']\n",
      "\n",
      "\n",
      "['12579005', 'SQLAR  the SQLite Archiver', 'https://www.sqlite.org/sqlar/doc/trunk/README.md', '1', '0', 'blacksqr', '9/26/2016 3:24']\n",
      "\n",
      "\n",
      "['12578997', 'What if we just printed a flatscreen television on the side of our boxes?', 'https://medium.com/vanmoof/our-secrets-out-f21c1f03fdc8#.ietxmez43', '1', '0', 'pavel_lishin', '9/26/2016 3:19']\n",
      "\n",
      "\n",
      "['12578989', 'algorithmic music', 'http://cacm.acm.org/magazines/2011/7/109891-algorithmic-composition/fulltext', '1', '0', 'poindontcare', '9/26/2016 3:16']\n",
      "\n",
      "\n",
      "['12578979', 'How the Data Vault Enables the Next-Gen Data Warehouse and Data Lake', 'https://www.talend.com/blog/2016/05/12/talend-and-Â\\x93the-data-vaultÂ\\x94', '1', '0', 'markgainor1', '9/26/2016 3:14']\n",
      "\n",
      "\n"
     ]
    }
   ],
   "source": [
    "'''\n",
    "Importing the data set\n",
    "'''\n",
    "from csv import reader\n",
    "\n",
    "#Open up the hacker news data set\n",
    "opened_file = open('Data_Sets\\hacker_news.csv', encoding='utf8')\n",
    "read_file = reader(opened_file)\n",
    "h_news = list(read_file)\n",
    "\n",
    "#Split the header out of the list\n",
    "h_news_header = h_news[0]\n",
    "h_news = h_news[1:]\n",
    "\n",
    "'''\n",
    "Printing the data set\n",
    "'''\n",
    "#Make a function to print the data set\n",
    "def print_list(arg_list, start, stop):\n",
    "    #Loop through the list section\n",
    "    for row in arg_list[start:stop]:\n",
    "        #Print the row with a space after it\n",
    "        print(row)\n",
    "        print('\\n')\n",
    "        \n",
    "#Print the first 5 rows with the header\n",
    "print(h_news_header)\n",
    "print('\\n')\n",
    "print_list(h_news, 0, 5)"
   ]
  },
  {
   "cell_type": "markdown",
   "metadata": {},
   "source": [
    "Now that we have the data set loaded, we can start working towards our goals.\n",
    "\n",
    "#### Seperating The List\n",
    "Now that we have the data set in a list and a header, We will now take the list and split it up.  We are looking at `Ask HN` and `Show HN` so we will split the data into 3 lists.  One list for `Ask HN`, one for `Show HN`, and one for all the rest of the posts."
   ]
  },
  {
   "cell_type": "code",
   "execution_count": 2,
   "metadata": {},
   "outputs": [
    {
     "name": "stdout",
     "output_type": "stream",
     "text": [
      "Ask HN posts:  6911\n",
      "Show HN posts:  5059\n",
      "Other Posts:  68431\n"
     ]
    }
   ],
   "source": [
    "'''\n",
    "Seperating the List into 3 Lists\n",
    "'''\n",
    "#Create 3 empty lists\n",
    "ask_posts = []\n",
    "show_posts = []\n",
    "other_posts = []\n",
    "\n",
    "#Loop through the data set\n",
    "for row in h_news:\n",
    "    #Grab the title\n",
    "    title = row[1]\n",
    "    \n",
    "    #Only if the post has comments\n",
    "    if int(row[4]) != 0:\n",
    "        #If the title starts with \"ask hn\" put in the ask list\n",
    "        if title[:6].lower().startswith('ask hn'):\n",
    "            ask_posts.append(row)\n",
    "        #Else if the title starts with \"show hn\" put in the show list\n",
    "        elif title[:7].lower().startswith('show hn'):\n",
    "            show_posts.append(row)\n",
    "        #Otherwise put the post in the other list\n",
    "        else:\n",
    "            other_posts.append(row)\n",
    "        \n",
    "#Look at the lengths of each list\n",
    "print(\"Ask HN posts: \", len(ask_posts))\n",
    "print(\"Show HN posts: \", len(show_posts))\n",
    "print(\"Other Posts: \", len(other_posts))"
   ]
  },
  {
   "cell_type": "markdown",
   "metadata": {},
   "source": [
    "#### Comparing Ask vs. Show\n",
    "Now that we have all the `Ask HN` posts and all the `Show HN` posts in seperate lists we can compare them.  To do this we will take the number of comments from each list and average them out.  Then we will be able to compare the average number of comments for each type of post."
   ]
  },
  {
   "cell_type": "code",
   "execution_count": 3,
   "metadata": {},
   "outputs": [
    {
     "name": "stdout",
     "output_type": "stream",
     "text": [
      "Average Ask HN Comments: 13.74\n",
      "Average Show HN Comments: 9.81\n"
     ]
    }
   ],
   "source": [
    "'''\n",
    "Calculating the average Ask HN\n",
    "'''\n",
    "#Create a total variable\n",
    "total_ask_comments = 0\n",
    "\n",
    "#Loop through the ask list\n",
    "for row in ask_posts:\n",
    "    #Grab the number of comments and convert it into an integer\n",
    "    num_comments = row[4]\n",
    "    num_comments = int(num_comments)\n",
    "    \n",
    "    #Add to the total counter\n",
    "    total_ask_comments += num_comments\n",
    "    \n",
    "#Calculate the average for the comments and print it out\n",
    "avg_ask_comments = total_ask_comments / len(ask_posts)\n",
    "print(\"Average Ask HN Comments: {:.2f}\".format(avg_ask_comments))\n",
    "\n",
    "'''\n",
    "Calculating the average Show HN\n",
    "'''\n",
    "#Create a total variable\n",
    "total_show_comments = 0\n",
    "\n",
    "#Loop through the show list\n",
    "for row in show_posts:\n",
    "    #Grab the number of comments and convert it into an integer\n",
    "    num_comments = row[4]\n",
    "    num_comments = int(num_comments)\n",
    "    \n",
    "    #Add to the total counter\n",
    "    total_show_comments += num_comments\n",
    "    \n",
    "#Calculate the average for the comments and print it out\n",
    "avg_show_comments = total_show_comments / len(show_posts)\n",
    "print(\"Average Show HN Comments: {:.2f}\".format(avg_show_comments))"
   ]
  },
  {
   "cell_type": "markdown",
   "metadata": {},
   "source": [
    "Now we have the average amount of comments for `Ask HN` and `Show HN`.  One thing that is immediatly obvious is that `Ask HN` posts average about 4 comments more than the `Show HN` posts.  \n",
    "One possible reason is answering questions can be easier than giving compliments.  When giving an answer to a question you can lean back on experience to answer and even piggy back off someone elses answer and clarify something or add something.  But when replying to someone showing off something they did, there are only so many ways to respond and you can't really piggy back off other posts.\n",
    "\n",
    "#### Comparing time of posts\n",
    "Now we will be looking to see if the time a post is posted affects the amount of comments it will get.  Because we know that `Ask HN` posts get more comments on average, we will be using that list for our time comparison.  For our comparison we will be doing it in 2 steps:\n",
    "1. We will group `Ask HN` posts by each hour of the day that they are created.\n",
    "2. We will calculate the average number of comments each group receives."
   ]
  },
  {
   "cell_type": "code",
   "execution_count": 4,
   "metadata": {
    "scrolled": false
   },
   "outputs": [
    {
     "name": "stdout",
     "output_type": "stream",
     "text": [
      "15:00 has an Average Comment of 39.67\n",
      "13:00 has an Average Comment of 22.22\n",
      "12:00 has an Average Comment of 15.45\n",
      "10:00 has an Average Comment of 13.76\n",
      "17:00 has an Average Comment of 13.73\n",
      "02:00 has an Average Comment of 13.20\n",
      "14:00 has an Average Comment of 13.15\n",
      "04:00 has an Average Comment of 12.69\n",
      "08:00 has an Average Comment of 12.43\n",
      "22:00 has an Average Comment of 11.75\n",
      "20:00 has an Average Comment of 11.38\n",
      "11:00 has an Average Comment of 11.14\n",
      "05:00 has an Average Comment of 11.14\n",
      "21:00 has an Average Comment of 11.06\n",
      "18:00 has an Average Comment of 10.79\n",
      "16:00 has an Average Comment of 10.76\n",
      "03:00 has an Average Comment of 10.16\n",
      "07:00 has an Average Comment of 10.10\n",
      "00:00 has an Average Comment of  9.86\n",
      "19:00 has an Average Comment of  9.41\n",
      "01:00 has an Average Comment of  9.37\n",
      "06:00 has an Average Comment of  9.02\n",
      "09:00 has an Average Comment of  8.39\n",
      "23:00 has an Average Comment of  8.32\n"
     ]
    }
   ],
   "source": [
    "'''\n",
    "Grabbing the time and comment numbers\n",
    "'''\n",
    "import datetime as dt\n",
    "\n",
    "#Create an empty time comment list\n",
    "time_comment_list = []\n",
    "\n",
    "#Loop through the ask posts list\n",
    "for row in ask_posts:\n",
    "    #grab the created time and the number of comments\n",
    "    created_time = row[6]\n",
    "    num_comments = row[4]\n",
    "    num_comments = int(num_comments)\n",
    "    \n",
    "    #Append the time and comments to the time comment list\n",
    "    time_comment_list.append([created_time, num_comments])\n",
    "    \n",
    "'''\n",
    "Calculating the number of comments per hour\n",
    "'''\n",
    "#Create 2 empty dictionaries\n",
    "posts_by_hour = {}\n",
    "comments_by_hour = {}\n",
    "\n",
    "#Loop through the time comment list\n",
    "for row in time_comment_list:\n",
    "    #Grab the time of each post\n",
    "    hour = dt.datetime.strptime(row[0], \"%m/%d/%Y %H:%M\")\n",
    "    #Grab only the hour for each post\n",
    "    hour = hour.strftime(\"%H\")\n",
    "    \n",
    "    #If the hour is a key in the dictionaries\n",
    "    if hour in posts_by_hour:\n",
    "        #Then increment the posts counter by 1 and add up the comments\n",
    "        posts_by_hour[hour] += 1\n",
    "        comments_by_hour[hour] += row[1]\n",
    "    #Else set the hour as a key in the dictionaries\n",
    "    else:\n",
    "        #Set the counter to 1 and set the number of comments\n",
    "        posts_by_hour[hour] = 1\n",
    "        comments_by_hour[hour] = row[1]\n",
    "\n",
    "'''\n",
    "Calculating the average comments per hour\n",
    "'''\n",
    "#Create an empty average by hour list\n",
    "average_by_hour = []\n",
    "\n",
    "#Loop through the dictionaries\n",
    "for hour in posts_by_hour:\n",
    "    #Grab the average comments per hour\n",
    "    average = comments_by_hour[hour] / posts_by_hour[hour]\n",
    "    \n",
    "    #Append the average and hour into the average by hour list\n",
    "    average_by_hour.append([average, hour])\n",
    "\n",
    "'''\n",
    "Printing the average comments per hour\n",
    "'''\n",
    "#Sort the average by hour list\n",
    "average_by_hour.sort(reverse = True)\n",
    "#Loop through the average by hour list\n",
    "for i in average_by_hour:\n",
    "    #Create a string for formatting\n",
    "    print_string = \"{1}:00 has an Average Comment of {0:>5.2f}\"\n",
    "    #print with formatting\n",
    "    print(print_string.format(i[0], i[1]))"
   ]
  },
  {
   "cell_type": "markdown",
   "metadata": {},
   "source": [
    "Now we have a nice list of average comments per hour.  We sorted the list by the average number of comments so that it is easier to see the best times to post.  One thing to keep in mind about the data set is that the times in the data set are Eastern Time.  This means that the top time of 3:00PM for the data set is actually 2:00PM for us.  That leaves the best times for us to post as 2:00PM, 12:00PM, 11:00AM, 9:00AM, and 4:00PM.  Four of these top 5 times are within 3 hours of noon.\n",
    "\n",
    "## Conclusion\n",
    "In this project, we took a data set from the forum website Hacker News which is popular in technology and startup circles.  Our goal was to compare Show HN posts which are posts that show off something someone has done and Ask HN posts which are posts that ask the HN community a question.  The way we are comparing the posts are by the average number of comments each post gets.  Our next goal is the see what hour is best to post and get the most number of comments.\n",
    "\n",
    "The comparison between Ask HN posts and Show HN posts showed us that on average Ask HN posts get on average 4 comments more than Show HN posts.  One possible reason is because multiple people can answer a question and add to a previous answer while commenting on someone's achievement tends to be all similar comments.\n",
    "\n",
    "The best hour to post.  For this goal we focused on Ask HN posts to see which hour had the most average comments per post.  One thing to note about the data set is that the times are in Eastern Time.  In Texas, we are using Central Time so that would be 1 hour behind the times in the data set.  Based on the data, for us 2:00PM is the best time to post. With 11:00AM and 12:00PM being the next best.  This leaves a 4 hour window in the afternoon for us to post and on average get a good number of comments."
   ]
  },
  {
   "cell_type": "code",
   "execution_count": null,
   "metadata": {},
   "outputs": [],
   "source": []
  }
 ],
 "metadata": {
  "kernelspec": {
   "display_name": "Python 3",
   "language": "python",
   "name": "python3"
  },
  "language_info": {
   "codemirror_mode": {
    "name": "ipython",
    "version": 3
   },
   "file_extension": ".py",
   "mimetype": "text/x-python",
   "name": "python",
   "nbconvert_exporter": "python",
   "pygments_lexer": "ipython3",
   "version": "3.7.4"
  }
 },
 "nbformat": 4,
 "nbformat_minor": 2
}
